{
 "cells": [
  {
   "cell_type": "code",
   "execution_count": 2,
   "id": "29ed3076",
   "metadata": {},
   "outputs": [],
   "source": [
    "#Importing the libraries\n",
    "import torch\n",
    "import torch.nn as nn\n",
    "from torch.utils.data import DataLoader, Dataset\n",
    "import torch.nn.functional as F\n",
    "import os\n",
    "import torchvision.transforms as transforms\n",
    "from torchvision import datasets,models\n",
    "from tqdm import tqdm\n",
    "from PIL import Image\n",
    "import numpy as np\n",
    "import time\n",
    "import matplotlib.pyplot as plt\n",
    "import seaborn as sn\n",
    "import pandas as pd\n",
    "from tqdm import tqdm"
   ]
  },
  {
   "cell_type": "code",
   "execution_count": 18,
   "id": "29dd9d3b",
   "metadata": {},
   "outputs": [],
   "source": [
    "class IndexedDataset(Dataset):\n",
    "    def __init__(self, dir_path):\n",
    "        self.dir_path = dir_path\n",
    "        \n",
    "        # Common transforms for both train and test datasets\n",
    "        self.transform = transforms.Compose([\n",
    "            transforms.Resize((224, 224)),  # Resize images to match ViT input size\n",
    "            transforms.ToTensor(),\n",
    "            transforms.Normalize(mean=[0.485, 0.456, 0.406], std=[0.229, 0.224, 0.225])  # ImageNet stats\n",
    "        ])\n",
    "        \n",
    "        # Collecting all image filenames\n",
    "        self.image_filenames = []\n",
    "        for (dirpath, dirnames, filenames) in os.walk(dir_path):\n",
    "            self.image_filenames += [os.path.join(dirpath, file) for file in filenames if file.lower().endswith(('.png', '.jpg', '.jpeg'))]\n",
    "        \n",
    "        # Map for labels\n",
    "        self.labels_map = {\"couch\": 0, \"motorcycle\": 1, \"cake\": 2, \"dog\": 3, \"boat\": 4}\n",
    "    \n",
    "    def __len__(self):\n",
    "        return len(self.image_filenames)\n",
    "    \n",
    "    def __getitem__(self, idx):\n",
    "        img_name = self.image_filenames[idx]\n",
    "        try:\n",
    "            image = Image.open(img_name).convert('RGB')\n",
    "            image = self.transform(image)\n",
    "            label = self.labels_map[os.path.basename(os.path.dirname(img_name))]\n",
    "            return image, label\n",
    "        except Exception as e:\n",
    "            print(f\"Error loading image {img_name}: {str(e)}\")\n",
    "            # Return a placeholder in case of error\n",
    "            return torch.zeros((3, 224, 224)), -1"
   ]
  },
  {
   "cell_type": "code",
   "execution_count": 19,
   "id": "e2faa3d8",
   "metadata": {},
   "outputs": [],
   "source": [
    "\n",
    "class Patch_Embedding(nn.Module):\n",
    "    def __init__(self, in_channels=3, embedding_size=768, patch_size=16, img_size=224):\n",
    "        super().__init__()\n",
    "        # Assuming that the image size is perfectly divisible by patch_size\n",
    "        self.embedding_size = embedding_size\n",
    "        self.num_patches = (img_size // patch_size) ** 2  # (h * w) / (patch_size ** 2)\n",
    "        self.conv = nn.Conv2d(in_channels, embedding_size, patch_size, stride=patch_size)\n",
    "        self.cls = nn.Parameter(torch.randn((1, embedding_size)))  # The cls token\n",
    "        self.pos = nn.Parameter(torch.randn(1, self.num_patches + 1, embedding_size))  # Position embedding\n",
    "\n",
    "    def forward(self, x):\n",
    "        # x is of shape (batch_size, in_channels, height, width)\n",
    "        batch_size = x.shape[0]\n",
    "\n",
    "        # Apply the convolutional layer to get the patch embeddings\n",
    "        y = self.conv(x)  # y is of shape (batch_size, embedding_size, h/patch_size, w/patch_size)\n",
    "\n",
    "        # Calculate the number of patches based on the height and width after convolution\n",
    "        num_patches = y.shape[2] * y.shape[3]\n",
    "\n",
    "        # Flatten the patches\n",
    "        out = y.view(batch_size, self.embedding_size, num_patches)  # out is of shape (batch_size, embedding_size, num_patches)\n",
    "\n",
    "        # Permute to get the correct shape\n",
    "        out = torch.permute(out, (0, 2, 1))  # out is now of shape (batch_size, num_patches, embedding_size)\n",
    "\n",
    "        # Expand the cls token to match the batch size\n",
    "        cls_tokens = self.cls.expand(batch_size, -1, -1)  # cls_tokens is of shape (batch_size, 1, embedding_size)\n",
    "\n",
    "        # Concatenate the cls token with the patch embeddings\n",
    "        cout = torch.cat((cls_tokens, out), dim=1)  # cout is of shape (batch_size, num_patches + 1, embedding_size)\n",
    "\n",
    "        # Ensure the positional embeddings match the number of patches + 1\n",
    "        pos_embeddings = self.pos[:, :cout.shape[1], :]  # Adjust pos to match the shape of cout\n",
    "\n",
    "        # Add the position embeddings to the patch and cls embeddings\n",
    "        pcout = cout + pos_embeddings  # pcout is of shape (batch_size, num_patches + 1, embedding_size)\n",
    "\n",
    "        return pcout\n",
    "\n",
    "\n"
   ]
  },
  {
   "cell_type": "code",
   "execution_count": 20,
   "id": "de6ae6db",
   "metadata": {},
   "outputs": [],
   "source": [
    "\n",
    "\n",
    "class ClassificationHead(nn.Module):\n",
    "    def __init__(self, embedding_size=768, num_classes=5):\n",
    "        super().__init__()\n",
    "        self.fc = nn.Linear(embedding_size, num_classes)\n",
    "\n",
    "    def forward(self, x):\n",
    "        # x is of shape (batch_size, num_patches, embedding_size)\n",
    "        x = x[:, -1, :]  # Taking the output of the last patch (usually the CLS token's output)\n",
    "        out = self.fc(x)  # Pass through the fully connected layer for classification\n",
    "        return out\n"
   ]
  },
  {
   "cell_type": "code",
   "execution_count": 21,
   "id": "0e07f7ac",
   "metadata": {},
   "outputs": [],
   "source": [
    "class MultiAttentionhead(nn.Module):\n",
    "    def __init__(self, embedding_size=768, num_heads=8, p=0.0):\n",
    "        super().__init__()\n",
    "        self.embedding_size = embedding_size  # The embedding size of each patch\n",
    "        self.num_heads = num_heads  # Number of attention heads\n",
    "        self.QKV = nn.Linear(embedding_size, 3 * embedding_size)  # Linear layer for Q, K, V\n",
    "        self.fc = nn.Linear(embedding_size, embedding_size)  # Linear layer for the output\n",
    "        self.drop = nn.Dropout(p)  # Dropout layer\n",
    "\n",
    "    def forward(self, x):\n",
    "        # x is of shape (batch_size, num_patches, embedding_size)\n",
    "        batch_size = x.shape[0]\n",
    "        num_patches = x.shape[1]\n",
    "\n",
    "        # Getting the Q, K, V for every patch in all the batches\n",
    "        QKV1 = self.QKV(x)  # QKV1 is of shape (batch_size, num_patches, 3 * embedding_size)\n",
    "        QKV2 = QKV1.reshape(batch_size, num_patches, self.num_heads, self.embedding_size // self.num_heads, 3)\n",
    "        Q, K, V = torch.permute(QKV2, (4, 0, 2, 1, 3))  # Q, K, V are of shape (batch_size, num_heads, num_patches, embedding_size // num_heads)\n",
    "\n",
    "        # Computing the attention scores\n",
    "        QKT = torch.einsum('bhid,bhjd->bhij', Q, K)  # QKT is of shape (batch_size, num_heads, num_patches, num_patches)\n",
    "        attention = F.softmax(QKT, dim=-1) / (self.embedding_size ** 0.5)  # Scaled softmax attention\n",
    "        attention = self.drop(attention)\n",
    "\n",
    "        # Updating the values based on the attention\n",
    "        QKtV = torch.einsum('bhij,bhjd->bhid', attention, V)  # QKtV is of shape (batch_size, num_heads, num_patches, embedding_size // num_heads)\n",
    "        z = torch.permute(QKtV, (0, 2, 1, 3))  # z is of shape (batch_size, num_patches, num_heads, embedding_size // num_heads)\n",
    "        Z = z.reshape(batch_size, num_patches, -1)  # Z is of shape (batch_size, num_patches, embedding_size)\n",
    "        out = self.fc(Z)  # out is of shape (batch_size, num_patches, embedding_size)\n",
    "        return out\n",
    "\n",
    "    "
   ]
  },
  {
   "cell_type": "code",
   "execution_count": 22,
   "id": "a96fa935",
   "metadata": {},
   "outputs": [],
   "source": [
    "\n",
    "class MLP(nn.Module):\n",
    "    # The MLP block within the transformer\n",
    "    def __init__(self, embedding_size=768, p=0.0, expansion=4):\n",
    "        super().__init__()\n",
    "        self.fc1 = nn.Linear(embedding_size, expansion * embedding_size)\n",
    "        self.fc2 = nn.Linear(expansion * embedding_size, embedding_size)\n",
    "        self.gelu = nn.GELU()\n",
    "        self.drop = nn.Dropout(p)\n",
    "\n",
    "    def forward(self, x):\n",
    "        # x is of shape (batch_size, num_patches, embedding_size)\n",
    "        x = self.gelu(self.fc1(x))\n",
    "        out = self.fc2(self.drop(x))\n",
    "        return out\n"
   ]
  },
  {
   "cell_type": "code",
   "execution_count": 23,
   "id": "3c64f39b",
   "metadata": {},
   "outputs": [],
   "source": [
    "class Transformer(nn.Module):\n",
    "    # The overall Transformer block\n",
    "    def __init__(self, embedding_size=768, p=0.0, expansion=4, num_heads=8):\n",
    "        super().__init__()\n",
    "        self.ln1 = nn.LayerNorm(embedding_size)\n",
    "        self.MAH = MultiAttentionhead(embedding_size, num_heads, p)\n",
    "        self.ln2 = nn.LayerNorm(embedding_size)\n",
    "        self.mlp = MLP(embedding_size, p, expansion)\n",
    "\n",
    "    def forward(self, x):\n",
    "        identity1 = x\n",
    "        x = self.MAH(self.ln1(x))\n",
    "        identity2 = x + identity1  # Skip connection\n",
    "        out = self.mlp(self.ln2(identity2))\n",
    "        out = out + identity2  # Skip connection\n",
    "        return out\n"
   ]
  },
  {
   "cell_type": "code",
   "execution_count": 24,
   "id": "e372d59b",
   "metadata": {},
   "outputs": [],
   "source": [
    "class ViT(nn.Module):\n",
    "    def __init__(self, embedding_size=768, p=0.0, expansion=4, num_heads=8, in_channels=3, patch_size=16, img_size=224, depth=12, num_classes=5):\n",
    "        super().__init__()\n",
    "\n",
    "        self.embedding = Patch_Embedding(in_channels, embedding_size, patch_size, img_size)\n",
    "\n",
    "        # A ViT would have multiple (depth) Transformer blocks\n",
    "        Tlayers = []\n",
    "        for i in range(depth):\n",
    "            Tlayers.append(Transformer(embedding_size, p, expansion, num_heads))\n",
    "\n",
    "        self.Tlayers = nn.Sequential(*Tlayers)\n",
    "\n",
    "        self.head = ClassificationHead(embedding_size, num_classes)\n",
    "\n",
    "    def forward(self, x):\n",
    "        # Getting the embeddings of each patch of all the batch images\n",
    "        x = self.embedding(x)\n",
    "\n",
    "        # Passing them through \"depth\" Transformer blocks\n",
    "        x = self.Tlayers(x)\n",
    "\n",
    "        # Passing the output through classification head\n",
    "        out = self.head(x)\n",
    "        return out\n"
   ]
  },
  {
   "cell_type": "code",
   "execution_count": 25,
   "id": "6a80697f",
   "metadata": {},
   "outputs": [],
   "source": [
    "#Function to count the number of parameters from https://discuss.pytorch.org/t/how-do-i\n",
    "def count_parameters(model):\n",
    "    return sum(p.numel() for p in model.parameters() if p.requires_grad)"
   ]
  },
  {
   "cell_type": "code",
   "execution_count": 26,
   "id": "235bd45f",
   "metadata": {},
   "outputs": [],
   "source": [
    "def find_acc(net, dataloader, device):\n",
    "    net.eval()  # Set the network to evaluation mode\n",
    "    correct = 0\n",
    "    with torch.no_grad():  # Disable gradient computation for evaluation\n",
    "        loop = tqdm(dataloader)\n",
    "        for i, data in enumerate(loop):\n",
    "            inputs, labels = data\n",
    "            inputs = inputs.to(device)\n",
    "            labels = labels.to(device)\n",
    "            outputs = net(inputs)\n",
    "            predicted = torch.argmax(outputs, 1)\n",
    "            correct += torch.sum(predicted.cpu() == labels.cpu()).item()\n",
    "    net.train()  # Set the network back to training mode\n",
    "    return (correct * 100) / len(dataloader.dataset)\n"
   ]
  },
  {
   "cell_type": "code",
   "execution_count": 27,
   "id": "4815aade",
   "metadata": {},
   "outputs": [],
   "source": [
    "import torch\n",
    "from tqdm import tqdm\n",
    "\n",
    "def training(epochs, optimizer, criterion, net, train_data_loader, test_data_loader, device):\n",
    "    train_losses = []\n",
    "    train_accs = []\n",
    "    test_accs = []\n",
    "\n",
    "    for epoch in range(epochs):\n",
    "        running_loss = 0.0\n",
    "        loop = tqdm(train_data_loader)\n",
    "\n",
    "        for i, data in enumerate(loop):\n",
    "            inputs, labels = data\n",
    "            inputs = inputs.to(device)\n",
    "            labels = labels.to(device)\n",
    "            \n",
    "            optimizer.zero_grad()\n",
    "            outputs = net(inputs)\n",
    "            loss = criterion(outputs, labels)\n",
    "            loss.backward()\n",
    "            optimizer.step()\n",
    "\n",
    "            running_loss += loss.cpu().item()\n",
    "            loop.set_postfix(loss=running_loss / (i + 1))\n",
    "\n",
    "        train_acc = find_acc(net, train_data_loader, device)\n",
    "        test_acc = find_acc(net, test_data_loader, device)\n",
    "        \n",
    "        train_accs.append(train_acc)\n",
    "        test_accs.append(test_acc)\n",
    "\n",
    "        print(f\"[Epoch: {epoch + 1}] Loss: {running_loss / len(train_data_loader):.3f} \"\n",
    "              f\"Train Accuracy: {train_acc:.3f} Test Accuracy: {test_acc:.3f}\")\n",
    "        \n",
    "        train_losses.append(running_loss / len(train_data_loader))\n",
    "\n",
    "    return net, train_losses, train_accs, test_accs\n"
   ]
  },
  {
   "cell_type": "code",
   "execution_count": 28,
   "id": "81ca852b",
   "metadata": {},
   "outputs": [],
   "source": [
    "import torch\n",
    "import pandas as pd\n",
    "import seaborn as sn\n",
    "import matplotlib.pyplot as plt\n",
    "\n",
    "def confusion_matrix(model, test_data_loader, device):\n",
    "    # Initialize a confusion matrix\n",
    "    matrix = torch.zeros((5, 5))\n",
    "    model.eval()  # Set the model to evaluation mode\n",
    "\n",
    "    with torch.no_grad():\n",
    "        for b, (X_test, y_test) in enumerate(test_data_loader):\n",
    "            X_test, y_test = X_test.to(device), y_test.to(device)\n",
    "            \n",
    "            # Apply the model\n",
    "            y_val = model(X_test)\n",
    "\n",
    "            # Get the predicted class\n",
    "            predicted = torch.argmax(y_val.data, 1)\n",
    "            \n",
    "            # Update the confusion matrix\n",
    "            for i in range(len(predicted)):\n",
    "                matrix[predicted[i].cpu(), y_test[i].cpu()] += 1\n",
    "\n",
    "    # Convert to pandas DataFrame for better visualization\n",
    "    class_names = [\"couch\", \"motorcycle\", \"cake\", \"dog\", \"boat\"]\n",
    "    heat = pd.DataFrame(matrix.numpy(), index=class_names, columns=class_names).astype(int)\n",
    "\n",
    "    # Calculate overall accuracy\n",
    "    accuracy = (matrix.trace() / matrix.sum()) * 100\n",
    "\n",
    "    # Plotting the confusion matrix\n",
    "    plt.figure(figsize=(10, 7))\n",
    "    plt.title(f\"Total Accuracy: {accuracy.item():.2f}%\")\n",
    "    s = sn.heatmap(heat, annot=True, cmap='Blues', fmt='g')\n",
    "    s.set(xlabel='Ground Truth', ylabel='Predicted')\n",
    "\n",
    "    plt.show()\n"
   ]
  },
  {
   "cell_type": "code",
   "execution_count": 29,
   "id": "24bccc16",
   "metadata": {},
   "outputs": [
    {
     "data": {
      "text/plain": [
       "device(type='cuda')"
      ]
     },
     "execution_count": 29,
     "metadata": {},
     "output_type": "execute_result"
    }
   ],
   "source": [
    "device = torch.device(\"cuda\" if torch.cuda.is_available() else \"cpu\")\n",
    "device"
   ]
  },
  {
   "cell_type": "code",
   "execution_count": 30,
   "id": "10a66c5a",
   "metadata": {},
   "outputs": [
    {
     "name": "stdout",
     "output_type": "stream",
     "text": [
      "8000\n",
      "2000\n"
     ]
    }
   ],
   "source": [
    "import torch\n",
    "import torch.nn as nn\n",
    "from torch.utils.data import DataLoader\n",
    "\n",
    "# Assuming you have the required dataset and ViT model classes already defined\n",
    "\n",
    "train_dataset = IndexedDataset(\"/home/skose/CocoSubset/train\")\n",
    "test_dataset = IndexedDataset(\"/home/skose/CocoSubset/val\")\n",
    "\n",
    "train_data_loader = DataLoader(train_dataset, batch_size=32, shuffle=True, num_workers=32)\n",
    "test_data_loader = DataLoader(test_dataset, batch_size=32, shuffle=True, num_workers=32)\n",
    "\n",
    "criterion = nn.CrossEntropyLoss()\n",
    "epochs = 10\n",
    "\n",
    "model = ViT(embedding_size=384, p=0.0, expansion=4, num_heads=8, in_channels=3, patch_size=16, img_size=224).to(device)\n",
    "\n",
    "optimizer = torch.optim.Adam(model.parameters(), lr=0.00001, betas=(0.9, 0.99))\n",
    "\n",
    "# Assuming count_parameters is a function defined elsewhere to count the model's parameters\n",
    "count_parameters(model)\n",
    "\n",
    "print(len(train_dataset))\n",
    "print(len(test_dataset))\n",
    "\n"
   ]
  },
  {
   "cell_type": "code",
   "execution_count": 31,
   "id": "2b10fe29",
   "metadata": {},
   "outputs": [
    {
     "name": "stderr",
     "output_type": "stream",
     "text": [
      "100%|██████████| 250/250 [00:37<00:00,  6.61it/s, loss=1.54]\n",
      "100%|██████████| 250/250 [00:16<00:00, 14.96it/s]\n",
      "100%|██████████| 63/63 [00:06<00:00,  9.76it/s]\n"
     ]
    },
    {
     "name": "stdout",
     "output_type": "stream",
     "text": [
      "[Epoch: 1] Loss: 1.542 Train Accuracy: 34.000 Test Accuracy: 32.750\n"
     ]
    },
    {
     "name": "stderr",
     "output_type": "stream",
     "text": [
      "100%|██████████| 250/250 [00:38<00:00,  6.56it/s, loss=1.44]\n",
      "100%|██████████| 250/250 [00:16<00:00, 15.60it/s]\n",
      "100%|██████████| 63/63 [00:06<00:00,  9.45it/s]\n"
     ]
    },
    {
     "name": "stdout",
     "output_type": "stream",
     "text": [
      "[Epoch: 2] Loss: 1.435 Train Accuracy: 42.562 Test Accuracy: 40.500\n"
     ]
    },
    {
     "name": "stderr",
     "output_type": "stream",
     "text": [
      "100%|██████████| 250/250 [00:37<00:00,  6.65it/s, loss=1.35]\n",
      "100%|██████████| 250/250 [00:16<00:00, 15.55it/s]\n",
      "100%|██████████| 63/63 [00:06<00:00, 10.04it/s]\n"
     ]
    },
    {
     "name": "stdout",
     "output_type": "stream",
     "text": [
      "[Epoch: 3] Loss: 1.349 Train Accuracy: 46.038 Test Accuracy: 44.150\n"
     ]
    },
    {
     "name": "stderr",
     "output_type": "stream",
     "text": [
      "100%|██████████| 250/250 [00:38<00:00,  6.56it/s, loss=1.29]\n",
      "100%|██████████| 250/250 [00:16<00:00, 14.73it/s]\n",
      "100%|██████████| 63/63 [00:06<00:00, 10.16it/s]\n"
     ]
    },
    {
     "name": "stdout",
     "output_type": "stream",
     "text": [
      "[Epoch: 4] Loss: 1.289 Train Accuracy: 45.612 Test Accuracy: 43.450\n"
     ]
    },
    {
     "name": "stderr",
     "output_type": "stream",
     "text": [
      "100%|██████████| 250/250 [00:38<00:00,  6.56it/s, loss=1.25]\n",
      "100%|██████████| 250/250 [00:16<00:00, 15.39it/s]\n",
      "100%|██████████| 63/63 [00:06<00:00,  9.72it/s]\n"
     ]
    },
    {
     "name": "stdout",
     "output_type": "stream",
     "text": [
      "[Epoch: 5] Loss: 1.250 Train Accuracy: 53.038 Test Accuracy: 50.000\n"
     ]
    },
    {
     "name": "stderr",
     "output_type": "stream",
     "text": [
      "100%|██████████| 250/250 [00:38<00:00,  6.51it/s, loss=1.22]\n",
      "100%|██████████| 250/250 [00:16<00:00, 15.58it/s]\n",
      "100%|██████████| 63/63 [00:06<00:00, 10.28it/s]\n"
     ]
    },
    {
     "name": "stdout",
     "output_type": "stream",
     "text": [
      "[Epoch: 6] Loss: 1.217 Train Accuracy: 53.913 Test Accuracy: 49.150\n"
     ]
    },
    {
     "name": "stderr",
     "output_type": "stream",
     "text": [
      "100%|██████████| 250/250 [00:37<00:00,  6.58it/s, loss=1.19]\n",
      "100%|██████████| 250/250 [00:16<00:00, 15.34it/s]\n",
      "100%|██████████| 63/63 [00:06<00:00, 10.22it/s]\n"
     ]
    },
    {
     "name": "stdout",
     "output_type": "stream",
     "text": [
      "[Epoch: 7] Loss: 1.187 Train Accuracy: 51.600 Test Accuracy: 48.050\n"
     ]
    },
    {
     "name": "stderr",
     "output_type": "stream",
     "text": [
      "100%|██████████| 250/250 [00:38<00:00,  6.46it/s, loss=1.17]\n",
      "100%|██████████| 250/250 [00:16<00:00, 15.29it/s]\n",
      "100%|██████████| 63/63 [00:06<00:00, 10.30it/s]\n"
     ]
    },
    {
     "name": "stdout",
     "output_type": "stream",
     "text": [
      "[Epoch: 8] Loss: 1.167 Train Accuracy: 56.962 Test Accuracy: 50.150\n"
     ]
    },
    {
     "name": "stderr",
     "output_type": "stream",
     "text": [
      "100%|██████████| 250/250 [00:38<00:00,  6.57it/s, loss=1.14]\n",
      "100%|██████████| 250/250 [00:16<00:00, 15.40it/s]\n",
      "100%|██████████| 63/63 [00:06<00:00, 10.49it/s]\n"
     ]
    },
    {
     "name": "stdout",
     "output_type": "stream",
     "text": [
      "[Epoch: 9] Loss: 1.140 Train Accuracy: 56.337 Test Accuracy: 49.250\n"
     ]
    },
    {
     "name": "stderr",
     "output_type": "stream",
     "text": [
      "100%|██████████| 250/250 [00:38<00:00,  6.52it/s, loss=1.12]\n",
      "100%|██████████| 250/250 [00:16<00:00, 15.35it/s]\n",
      "100%|██████████| 63/63 [00:06<00:00,  9.51it/s]"
     ]
    },
    {
     "name": "stdout",
     "output_type": "stream",
     "text": [
      "[Epoch: 10] Loss: 1.118 Train Accuracy: 57.850 Test Accuracy: 49.500\n"
     ]
    },
    {
     "name": "stderr",
     "output_type": "stream",
     "text": [
      "\n"
     ]
    },
    {
     "data": {
      "image/png": "[encoded data removed]",
      "text/plain": [
       "<Figure size 720x504 with 2 Axes>"
      ]
     },
     "metadata": {
      "needs_background": "light"
     },
     "output_type": "display_data"
    }
   ],
   "source": [
    "# Train the model\n",
    "trained_model, train_losses, train_accs, test_accs = training(epochs, optimizer, criterion, model, train_data_loader, test_data_loader, device)\n",
    "\n",
    "# Generate and plot the confusion matrix for the trained model\n",
    "confusion_matrix(trained_model, test_data_loader, device)\n"
   ]
  },
  {
   "cell_type": "code",
   "execution_count": 35,
   "id": "fd54f0ce",
   "metadata": {},
   "outputs": [
    {
     "name": "stderr",
     "output_type": "stream",
     "text": [
      "No handles with labels found to put in legend.\n"
     ]
    },
    {
     "data": {
      "text/plain": [
       "<matplotlib.legend.Legend at 0x2b3ccfa598b0>"
      ]
     },
     "execution_count": 35,
     "metadata": {},
     "output_type": "execute_result"
    },
    {
     "data": {
      "image/png": "[encoded data removed]",
      "text/plain": [
       "<Figure size 432x288 with 1 Axes>"
      ]
     },
     "metadata": {
      "needs_background": "light"
     },
     "output_type": "display_data"
    }
   ],
   "source": [
    "epochs = np.arange(1,11)\n",
    "plt.xticks(epochs, epochs)\n",
    "plt.xlabel(\"Epochs\")\n",
    "plt.ylabel(\"Loss\")\n",
    "plt.title(\"Training Loss vs epochs\")\n",
    "plt.plot(epochs,train_losses)\n",
    "plt.legend(loc = \"upper right\")"
   ]
  },
  {
   "cell_type": "code",
   "execution_count": 34,
   "id": "36e75903",
   "metadata": {},
   "outputs": [
    {
     "data": {
      "text/plain": [
       "<matplotlib.legend.Legend at 0x2b3ccfa43d00>"
      ]
     },
     "execution_count": 34,
     "metadata": {},
     "output_type": "execute_result"
    },
    {
     "data": {
      "image/png": "[encoded data removed]",
      "text/plain": [
       "<Figure size 432x288 with 1 Axes>"
      ]
     },
     "metadata": {
      "needs_background": "light"
     },
     "output_type": "display_data"
    }
   ],
   "source": [
    "epochs = np.arange(1,11)\n",
    "plt.xticks(epochs, epochs)\n",
    "plt.xlabel(\"Epochs\")\n",
    "plt.ylabel(\"Accuracy\")\n",
    "plt.title(\"Accuracy vs epochs\")\n",
    "plt.plot(epochs,test_accs,label=\"Test Accuracy\")\n",
    "plt.plot(epochs,train_accs,label=\"Train Accuracy\")\n",
    "plt.legend(loc = \"upper right\")"
   ]
  },
  {
   "cell_type": "code",
   "execution_count": null,
   "id": "38bb1b11",
   "metadata": {},
   "outputs": [],
   "source": []
  }
 ],
 "metadata": {
  "kernelspec": {
   "display_name": "Python 3.9 (Default)",
   "language": "python",
   "name": "python3"
  },
  "language_info": {
   "codemirror_mode": {
    "name": "ipython",
    "version": 3
   },
   "file_extension": ".py",
   "mimetype": "text/x-python",
   "name": "python",
   "nbconvert_exporter": "python",
   "pygments_lexer": "ipython3",
   "version": "3.9.7"
  }
 },
 "nbformat": 4,
 "nbformat_minor": 5
}
